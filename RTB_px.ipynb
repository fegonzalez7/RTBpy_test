{
 "cells": [
  {
   "cell_type": "code",
   "execution_count": 21,
   "metadata": {},
   "outputs": [],
   "source": [
    "%matplotlib qt\n",
    "import roboticstoolbox as rtb\n",
    "from spatialmath import *\n",
    "from spatialmath.base import *\n",
    "import numpy as np\n"
   ]
  },
  {
   "cell_type": "code",
   "execution_count": 4,
   "metadata": {},
   "outputs": [],
   "source": [
    "T = SE3(0.5, 0.0, 0.0) * SE3.RPY([0.1, 0.2, 0.3], order='xyz') * SE3.Rx(-90, unit='deg')\n",
    "T.plot(color='red', frame='0', width=10)"
   ]
  },
  {
   "cell_type": "code",
   "execution_count": 22,
   "metadata": {},
   "outputs": [
    {
     "name": "stdout",
     "output_type": "stream",
     "text": [
      "DHRobot: Px_DH, 4 joints (RRRR), dynamics, standard DH parameters\n",
      "┏━━━━━━━━━━┳━━━━┳━━━━┳━━━━━━━┓\n",
      "┃   θⱼ     ┃ dⱼ ┃ aⱼ ┃  ⍺ⱼ   ┃\n",
      "┣━━━━━━━━━━╋━━━━╋━━━━╋━━━━━━━┫\n",
      "┃ q1\u001b[0m       ┃ 10\u001b[0m ┃  0\u001b[0m ┃ 90.0°\u001b[0m ┃\n",
      "┃ q2 + 90°\u001b[0m ┃  0\u001b[0m ┃ 10\u001b[0m ┃  0.0°\u001b[0m ┃\n",
      "┃ q3\u001b[0m       ┃  0\u001b[0m ┃ 10\u001b[0m ┃  0.0°\u001b[0m ┃\n",
      "┃ q4\u001b[0m       ┃  0\u001b[0m ┃  5\u001b[0m ┃  0.0°\u001b[0m ┃\n",
      "┗━━━━━━━━━━┻━━━━┻━━━━┻━━━━━━━┛\n",
      "\n"
     ]
    }
   ],
   "source": [
    "robot = rtb.DHRobot(\n",
    "    [rtb.RevoluteDH(alpha=np.pi/2, d=10),\n",
    "     rtb.RevoluteDH(a=10, offset=np.pi/2),\n",
    "     rtb.RevoluteDH(a=10),\n",
    "     rtb.RevoluteDH(a=5)],\n",
    "    name=\"Px_DH\")\n",
    "print(robot)"
   ]
  },
  {
   "cell_type": "code",
   "execution_count": 24,
   "metadata": {},
   "outputs": [
    {
     "data": {
      "text/plain": [
       "<matplotlib.axes._subplots.Axes3DSubplot at 0x7feff02369a0>"
      ]
     },
     "execution_count": 24,
     "metadata": {},
     "output_type": "execute_result"
    }
   ],
   "source": [
    "\n",
    "robot.plot(np.array([0, 0, .25, 0]))\n",
    "#T = SE3(0,0,0)\n",
    "#T.plot(frame='0', length=10, rviz=True, width=1)\n",
    "trplot(transl(0,0,0),frame='0', length=10, rviz=True, width=1)\n",
    "#a = robot.fkine(np.array([0, 0, .25, 0]))\n"
   ]
  },
  {
   "cell_type": "code",
   "execution_count": 7,
   "metadata": {},
   "outputs": [],
   "source": [
    "type(robot.fkine(np.array([0, 0, .25, 0])))"
   ]
  },
  {
   "cell_type": "code",
   "execution_count": null,
   "metadata": {},
   "outputs": [],
   "source": []
  }
 ],
 "metadata": {
  "interpreter": {
   "hash": "e7370f93d1d0cde622a1f8e1c04877d8463912d04d973331ad4851f04de6915a"
  },
  "kernelspec": {
   "display_name": "Python 3.8.10 64-bit",
   "language": "python",
   "name": "python3"
  },
  "language_info": {
   "codemirror_mode": {
    "name": "ipython",
    "version": 3
   },
   "file_extension": ".py",
   "mimetype": "text/x-python",
   "name": "python",
   "nbconvert_exporter": "python",
   "pygments_lexer": "ipython3",
   "version": "3.8.10"
  },
  "orig_nbformat": 4
 },
 "nbformat": 4,
 "nbformat_minor": 2
}
