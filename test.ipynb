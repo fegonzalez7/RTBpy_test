{
 "cells": [
  {
   "cell_type": "code",
   "execution_count": 3,
   "metadata": {},
   "outputs": [
    {
     "name": "stdout",
     "output_type": "stream",
     "text": [
      "DHRobot: 2R, 2 joints (RR), dynamics, standard DH parameters\n",
      "┏━━━━┳━━━━┳━━━━┳━━━━━━┓\n",
      "┃θⱼ  ┃ dⱼ ┃ aⱼ ┃  ⍺ⱼ  ┃\n",
      "┣━━━━╋━━━━╋━━━━╋━━━━━━┫\n",
      "┃ q1 ┃  0 ┃  1 ┃ 0.0° ┃\n",
      "┃ q2 ┃  0 ┃  1 ┃ 0.0° ┃\n",
      "┗━━━━┻━━━━┻━━━━┻━━━━━━┛\n",
      "\n"
     ]
    },
    {
     "data": {
      "text/plain": [
       "PyPlot3D backend, t = 0.05, scene:\n",
       "  2R"
      ]
     },
     "execution_count": 3,
     "metadata": {},
     "output_type": "execute_result"
    }
   ],
   "source": [
    "%matplotlib qt\n",
    "import roboticstoolbox as rtb\n",
    "from spatialmath import SE3\n",
    "\n",
    "robot = rtb.DHRobot([rtb.RevoluteDH(a=1),rtb.RevoluteDH(a=1)],name=\"2R\")\n",
    "print(robot)\n",
    "robot.plot([0.75,0.26])\n"
   ]
  }
 ],
 "metadata": {
  "interpreter": {
   "hash": "916dbcbb3f70747c44a77c7bcd40155683ae19c65e1c03b4aa3499c5328201f1"
  },
  "kernelspec": {
   "display_name": "Python 3.8.10 64-bit",
   "language": "python",
   "name": "python3"
  },
  "language_info": {
   "codemirror_mode": {
    "name": "ipython",
    "version": 3
   },
   "file_extension": ".py",
   "mimetype": "text/x-python",
   "name": "python",
   "nbconvert_exporter": "python",
   "pygments_lexer": "ipython3",
   "version": "3.8.10"
  },
  "orig_nbformat": 4
 },
 "nbformat": 4,
 "nbformat_minor": 2
}
