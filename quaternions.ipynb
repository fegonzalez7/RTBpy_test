{
 "cells": [
  {
   "cell_type": "code",
   "execution_count": 3,
   "metadata": {},
   "outputs": [],
   "source": [
    "from geometry_msgs.msg import Quaternion\n",
    "from tf.transformations import quaternion_from_euler"
   ]
  },
  {
   "cell_type": "code",
   "execution_count": 2,
   "metadata": {},
   "outputs": [],
   "source": [
    "quat_tf = [0, 1, 0, 0]\n",
    "quat_msg = Quaternion(quat_tf[0], quat_tf[1], quat_tf[2], quat_tf[3])"
   ]
  },
  {
   "cell_type": "code",
   "execution_count": 5,
   "metadata": {},
   "outputs": [
    {
     "name": "stdout",
     "output_type": "stream",
     "text": [
      "x: 0\n",
      "y: 1\n",
      "z: 0\n",
      "w: 0\n"
     ]
    }
   ],
   "source": [
    "print(quat_msg)"
   ]
  },
  {
   "cell_type": "code",
   "execution_count": 12,
   "metadata": {},
   "outputs": [
    {
     "name": "stdout",
     "output_type": "stream",
     "text": [
      "The quaternion representation is 0.500 -0.500 -0.500 0.500.\n"
     ]
    }
   ],
   "source": [
    "from tf.transformations import quaternion_from_euler\n",
    "if __name__ == '__main__':\n",
    "  # RPY to convert: 90deg, 0, -90deg\n",
    "  q = quaternion_from_euler(1.5707, 0, -1.5707)\n",
    "  print(\"The quaternion representation is {:.3f} {:.3f} {:.3f} {:.3f}.\".format(q[0], q[1], q[2], q[3]))"
   ]
  },
  {
   "cell_type": "code",
   "execution_count": 14,
   "metadata": {},
   "outputs": [
    {
     "name": "stdout",
     "output_type": "stream",
     "text": [
      "[1.000000e+00 0.000000e+00 0.000000e+00 6.123234e-17]\n"
     ]
    }
   ],
   "source": [
    "from tf.transformations import *\n",
    "q_orig = quaternion_from_euler(0, 0, 0)\n",
    "q_rot = quaternion_from_euler(math.pi, 0, 0)\n",
    "q_new = quaternion_multiply(q_rot, q_orig)\n",
    "print(q_new)"
   ]
  },
  {
   "cell_type": "code",
   "execution_count": null,
   "metadata": {},
   "outputs": [],
   "source": []
  }
 ],
 "metadata": {
  "interpreter": {
   "hash": "31f2aee4e71d21fbe5cf8b01ff0e069b9275f58929596ceb00d14d90e3e16cd6"
  },
  "kernelspec": {
   "display_name": "Python 3.8.10 64-bit",
   "language": "python",
   "name": "python3"
  },
  "language_info": {
   "codemirror_mode": {
    "name": "ipython",
    "version": 3
   },
   "file_extension": ".py",
   "mimetype": "text/x-python",
   "name": "python",
   "nbconvert_exporter": "python",
   "pygments_lexer": "ipython3",
   "version": "3.8.10"
  },
  "orig_nbformat": 4
 },
 "nbformat": 4,
 "nbformat_minor": 2
}
